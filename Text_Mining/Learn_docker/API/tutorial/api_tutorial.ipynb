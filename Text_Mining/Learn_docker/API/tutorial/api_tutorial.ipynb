{
 "cells": [
  {
   "cell_type": "markdown",
   "metadata": {},
   "source": [
    "### API Implementation Example:\n",
    "\n",
    "- Database (SQL)\n",
    "\n",
    "- API \n",
    "\n",
    "- User with reading and adding capabilities"
   ]
  },
  {
   "cell_type": "markdown",
   "metadata": {},
   "source": [
    "**Database**"
   ]
  },
  {
   "cell_type": "code",
   "execution_count": 1,
   "metadata": {},
   "outputs": [],
   "source": [
    "import sqlite3\n",
    "\n",
    "def create_db(db_name):\n",
    "    # Connect to SQLite database (or create it)\n",
    "    conn = sqlite3.connect(db_name)\n",
    "\n",
    "    # Create a cursor\n",
    "    c = conn.cursor()\n",
    "\n",
    "    # Create table\n",
    "    c.execute('''CREATE TABLE users\n",
    "                 (id INTEGER PRIMARY KEY, name TEXT, email TEXT)''')\n",
    "\n",
    "    # Insert some users\n",
    "    c.execute(\"INSERT INTO users (name, email) VALUES ('Al', 'al_2024@example.com')\")\n",
    "    c.execute(\"INSERT INTO users (name, email) VALUES ('Vin', 'vin_2024@example.com')\")\n",
    "\n",
    "    # Save (commit) the changes\n",
    "    conn.commit()\n",
    "\n",
    "    # Close the connection\n",
    "    conn.close()\n",
    "\n",
    "create_db('database.db')\n"
   ]
  },
  {
   "cell_type": "markdown",
   "metadata": {},
   "source": [
    "**API**"
   ]
  },
  {
   "cell_type": "code",
   "execution_count": 2,
   "metadata": {},
   "outputs": [
    {
     "name": "stdout",
     "output_type": "stream",
     "text": [
      " * Serving Flask app '__main__'\n",
      " * Debug mode: off\n"
     ]
    },
    {
     "name": "stderr",
     "output_type": "stream",
     "text": [
      "WARNING: This is a development server. Do not use it in a production deployment. Use a production WSGI server instead.\n",
      " * Running on http://127.0.0.1:5000\n",
      "Press CTRL+C to quit\n",
      "127.0.0.1 - - [02/May/2024 11:55:06] \"GET /api/v1/users?db=database.db HTTP/1.1\" 200 -\n",
      "127.0.0.1 - - [02/May/2024 11:55:08] \"POST /api/v1/users?db=database.db&name=User3&email=user3@example.com HTTP/1.1\" 200 -\n",
      "127.0.0.1 - - [02/May/2024 11:55:10] \"GET /api/v1/users?db=database.db HTTP/1.1\" 200 -\n",
      "127.0.0.1 - - [02/May/2024 11:55:12] \"GET /api/v1/users?db=database.db HTTP/1.1\" 200 -\n",
      "127.0.0.1 - - [02/May/2024 11:55:14] \"GET /api/v1/users?db=database.db HTTP/1.1\" 200 -\n"
     ]
    }
   ],
   "source": [
    "\n",
    "from flask import Flask, jsonify, request\n",
    "import sqlite3\n",
    "from threading import Thread\n",
    "import requests\n",
    "from flask import Flask, request, render_template\n",
    "import requests\n",
    "import threading\n",
    "from werkzeug.serving import run_simple\n",
    "\n",
    "app = Flask(__name__)\n",
    "\n",
    "@app.route('/api/v1/users', methods=['GET'])\n",
    "def get_users():\n",
    "    db_name = request.args.get('db')\n",
    "    conn = sqlite3.connect(db_name)\n",
    "    c = conn.cursor()\n",
    "    c.execute(\"SELECT * FROM users\")\n",
    "    users = c.fetchall()\n",
    "    conn.close()\n",
    "    return jsonify(users)\n",
    "\n",
    "@app.route('/api/v1/users', methods=['POST'])\n",
    "def add_user():\n",
    "    db_name = request.args.get('db')\n",
    "    name = request.args.get('name')\n",
    "    email = request.args.get('email')\n",
    "    conn = sqlite3.connect(db_name)\n",
    "    c = conn.cursor()\n",
    "    c.execute(f\"INSERT INTO users (name, email) VALUES ('{name}', '{email}')\")\n",
    "    conn.commit()\n",
    "    conn.close()\n",
    "    return jsonify({'status': 'success'})\n",
    "\n",
    "@app.route('/api/v1/users/<int:user_id>', methods=['DELETE'])\n",
    "def delete_user(user_id):\n",
    "    db_name = request.args.get('db')\n",
    "    conn = sqlite3.connect(db_name)\n",
    "    c = conn.cursor()\n",
    "    c.execute(f\"DELETE FROM users WHERE id = {user_id}\")\n",
    "    conn.commit()\n",
    "    conn.close()\n",
    "    return jsonify({'status': 'success'})\n",
    "\n",
    "def run_app():\n",
    "    app.run(port=5000)\n",
    "\n",
    "# Run the Flask app in a separate thread\n",
    "Thread(target=run_app).start()\n",
    "\n"
   ]
  },
  {
   "cell_type": "markdown",
   "metadata": {},
   "source": [
    "**User Interface**"
   ]
  },
  {
   "cell_type": "code",
   "execution_count": 5,
   "metadata": {},
   "outputs": [
    {
     "name": "stdout",
     "output_type": "stream",
     "text": [
      "[[1, 'Al', 'al_2024@example.com'], [2, 'Vin', 'vin_2024@example.com']]\n",
      "Status Code: 200\n",
      "Response Text: {\"status\":\"success\"}\n",
      "\n",
      "{'status': 'success'}\n",
      "[[1, 'Al', 'al_2024@example.com'], [2, 'Vin', 'vin_2024@example.com'], [3, 'User3', 'user3@example.com']]\n",
      "[[1, 'Al', 'al_2024@example.com'], [2, 'Vin', 'vin_2024@example.com'], [3, 'User3', 'user3@example.com']]\n",
      "[[1, 'Al', 'al_2024@example.com'], [2, 'Vin', 'vin_2024@example.com'], [3, 'User3', 'user3@example.com']]\n"
     ]
    }
   ],
   "source": [
    "\n",
    "# Get users\n",
    "response = requests.get('http://localhost:5000/api/v1/users', params={'db': 'database.db'})\n",
    "print(response.json())\n",
    "\n",
    "response = requests.post('http://localhost:5000/api/v1/users', params={'db': 'database.db', 'name': 'User3', 'email': 'user3@example.com'})\n",
    "print('Status Code:', response.status_code)\n",
    "print('Response Text:', response.text)\n",
    "try:\n",
    "    print(response.json())\n",
    "except Exception as e:\n",
    "    print('Error:', e)\n",
    "\n",
    "# Get users again\n",
    "response = requests.get('http://localhost:5000/api/v1/users', params={'db': 'database.db'})\n",
    "print(response.json())\n",
    "\n",
    "\n",
    "\n",
    "# Get users again\n",
    "response = requests.get('http://localhost:5000/api/v1/users', params={'db': 'database.db'})\n",
    "print(response.json())\n",
    "\n",
    "# Create another db\n",
    "create_db('test2.db')\n",
    "\n",
    "# Get users from new db\n",
    "response = requests.get('http://localhost:5000/api/v1/users', params={'db': 'database.db'})\n",
    "print(response.json())"
   ]
  }
 ],
 "metadata": {
  "kernelspec": {
   "display_name": "Python 3",
   "language": "python",
   "name": "python3"
  },
  "language_info": {
   "codemirror_mode": {
    "name": "ipython",
    "version": 3
   },
   "file_extension": ".py",
   "mimetype": "text/x-python",
   "name": "python",
   "nbconvert_exporter": "python",
   "pygments_lexer": "ipython3",
   "version": "3.12.0"
  }
 },
 "nbformat": 4,
 "nbformat_minor": 2
}
